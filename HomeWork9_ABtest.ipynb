{
 "cells": [
  {
   "cell_type": "markdown",
   "id": "b8710605",
   "metadata": {},
   "source": [
    "## Урок 9. Python применение продвинутых методов"
   ]
  },
  {
   "cell_type": "markdown",
   "id": "49161207",
   "metadata": {},
   "source": [
    "## Проанализируйте результаты эксперимента и напишите свои рекомендации менеджеру.                                                                                                                                            Mobile Games AB Testing with Cookie Cats"
   ]
  },
  {
   "cell_type": "code",
   "execution_count": 26,
   "id": "2736f394",
   "metadata": {},
   "outputs": [],
   "source": [
    "import pandas as pd\n",
    "import matplotlib.pyplot as plt\n",
    "from scipy.stats import mannwhitneyu\n",
    "from scipy.stats import ttest_ind\n",
    "from scipy.stats import kstest"
   ]
  },
  {
   "cell_type": "code",
   "execution_count": 27,
   "id": "74aca7f9",
   "metadata": {},
   "outputs": [
    {
     "data": {
      "text/html": [
       "<div>\n",
       "<style scoped>\n",
       "    .dataframe tbody tr th:only-of-type {\n",
       "        vertical-align: middle;\n",
       "    }\n",
       "\n",
       "    .dataframe tbody tr th {\n",
       "        vertical-align: top;\n",
       "    }\n",
       "\n",
       "    .dataframe thead th {\n",
       "        text-align: right;\n",
       "    }\n",
       "</style>\n",
       "<table border=\"1\" class=\"dataframe\">\n",
       "  <thead>\n",
       "    <tr style=\"text-align: right;\">\n",
       "      <th></th>\n",
       "      <th>userid</th>\n",
       "      <th>version</th>\n",
       "      <th>sum_gamerounds</th>\n",
       "      <th>retention_1</th>\n",
       "      <th>retention_7</th>\n",
       "    </tr>\n",
       "  </thead>\n",
       "  <tbody>\n",
       "    <tr>\n",
       "      <th>0</th>\n",
       "      <td>116</td>\n",
       "      <td>gate_30</td>\n",
       "      <td>3</td>\n",
       "      <td>False</td>\n",
       "      <td>False</td>\n",
       "    </tr>\n",
       "    <tr>\n",
       "      <th>1</th>\n",
       "      <td>337</td>\n",
       "      <td>gate_30</td>\n",
       "      <td>38</td>\n",
       "      <td>True</td>\n",
       "      <td>False</td>\n",
       "    </tr>\n",
       "    <tr>\n",
       "      <th>2</th>\n",
       "      <td>377</td>\n",
       "      <td>gate_40</td>\n",
       "      <td>165</td>\n",
       "      <td>True</td>\n",
       "      <td>False</td>\n",
       "    </tr>\n",
       "    <tr>\n",
       "      <th>3</th>\n",
       "      <td>483</td>\n",
       "      <td>gate_40</td>\n",
       "      <td>1</td>\n",
       "      <td>False</td>\n",
       "      <td>False</td>\n",
       "    </tr>\n",
       "    <tr>\n",
       "      <th>4</th>\n",
       "      <td>488</td>\n",
       "      <td>gate_40</td>\n",
       "      <td>179</td>\n",
       "      <td>True</td>\n",
       "      <td>True</td>\n",
       "    </tr>\n",
       "  </tbody>\n",
       "</table>\n",
       "</div>"
      ],
      "text/plain": [
       "   userid  version  sum_gamerounds  retention_1  retention_7\n",
       "0     116  gate_30               3        False        False\n",
       "1     337  gate_30              38         True        False\n",
       "2     377  gate_40             165         True        False\n",
       "3     483  gate_40               1        False        False\n",
       "4     488  gate_40             179         True         True"
      ]
     },
     "execution_count": 27,
     "metadata": {},
     "output_type": "execute_result"
    }
   ],
   "source": [
    "df = pd.read_csv('gb_sem_9_hw.csv')\n",
    "df.head()"
   ]
  },
  {
   "cell_type": "code",
   "execution_count": 28,
   "id": "84c2a2ca",
   "metadata": {},
   "outputs": [
    {
     "name": "stdout",
     "output_type": "stream",
     "text": [
      "<class 'pandas.core.frame.DataFrame'>\n",
      "RangeIndex: 90189 entries, 0 to 90188\n",
      "Data columns (total 5 columns):\n",
      " #   Column          Non-Null Count  Dtype \n",
      "---  ------          --------------  ----- \n",
      " 0   userid          90189 non-null  int64 \n",
      " 1   version         90189 non-null  object\n",
      " 2   sum_gamerounds  90189 non-null  int64 \n",
      " 3   retention_1     90189 non-null  bool  \n",
      " 4   retention_7     90189 non-null  bool  \n",
      "dtypes: bool(2), int64(2), object(1)\n",
      "memory usage: 2.2+ MB\n"
     ]
    }
   ],
   "source": [
    "df.info()"
   ]
  },
  {
   "cell_type": "code",
   "execution_count": 29,
   "id": "2686bfdd",
   "metadata": {},
   "outputs": [
    {
     "data": {
      "text/html": [
       "<div>\n",
       "<style scoped>\n",
       "    .dataframe tbody tr th:only-of-type {\n",
       "        vertical-align: middle;\n",
       "    }\n",
       "\n",
       "    .dataframe tbody tr th {\n",
       "        vertical-align: top;\n",
       "    }\n",
       "\n",
       "    .dataframe thead th {\n",
       "        text-align: right;\n",
       "    }\n",
       "</style>\n",
       "<table border=\"1\" class=\"dataframe\">\n",
       "  <thead>\n",
       "    <tr style=\"text-align: right;\">\n",
       "      <th></th>\n",
       "      <th>userid</th>\n",
       "      <th>sum_gamerounds</th>\n",
       "    </tr>\n",
       "  </thead>\n",
       "  <tbody>\n",
       "    <tr>\n",
       "      <th>count</th>\n",
       "      <td>9.018900e+04</td>\n",
       "      <td>90189.000000</td>\n",
       "    </tr>\n",
       "    <tr>\n",
       "      <th>mean</th>\n",
       "      <td>4.998412e+06</td>\n",
       "      <td>51.872457</td>\n",
       "    </tr>\n",
       "    <tr>\n",
       "      <th>std</th>\n",
       "      <td>2.883286e+06</td>\n",
       "      <td>195.050858</td>\n",
       "    </tr>\n",
       "    <tr>\n",
       "      <th>min</th>\n",
       "      <td>1.160000e+02</td>\n",
       "      <td>0.000000</td>\n",
       "    </tr>\n",
       "    <tr>\n",
       "      <th>25%</th>\n",
       "      <td>2.512230e+06</td>\n",
       "      <td>5.000000</td>\n",
       "    </tr>\n",
       "    <tr>\n",
       "      <th>50%</th>\n",
       "      <td>4.995815e+06</td>\n",
       "      <td>16.000000</td>\n",
       "    </tr>\n",
       "    <tr>\n",
       "      <th>75%</th>\n",
       "      <td>7.496452e+06</td>\n",
       "      <td>51.000000</td>\n",
       "    </tr>\n",
       "    <tr>\n",
       "      <th>max</th>\n",
       "      <td>9.999861e+06</td>\n",
       "      <td>49854.000000</td>\n",
       "    </tr>\n",
       "  </tbody>\n",
       "</table>\n",
       "</div>"
      ],
      "text/plain": [
       "             userid  sum_gamerounds\n",
       "count  9.018900e+04    90189.000000\n",
       "mean   4.998412e+06       51.872457\n",
       "std    2.883286e+06      195.050858\n",
       "min    1.160000e+02        0.000000\n",
       "25%    2.512230e+06        5.000000\n",
       "50%    4.995815e+06       16.000000\n",
       "75%    7.496452e+06       51.000000\n",
       "max    9.999861e+06    49854.000000"
      ]
     },
     "execution_count": 29,
     "metadata": {},
     "output_type": "execute_result"
    }
   ],
   "source": [
    "df.describe()"
   ]
  },
  {
   "cell_type": "code",
   "execution_count": 30,
   "id": "6b521f6d",
   "metadata": {},
   "outputs": [
    {
     "data": {
      "text/plain": [
       "array(['gate_30', 'gate_40'], dtype=object)"
      ]
     },
     "execution_count": 30,
     "metadata": {},
     "output_type": "execute_result"
    }
   ],
   "source": [
    "df.version.unique()"
   ]
  },
  {
   "cell_type": "code",
   "execution_count": 31,
   "id": "89f9769f",
   "metadata": {},
   "outputs": [
    {
     "data": {
      "text/html": [
       "<div>\n",
       "<style scoped>\n",
       "    .dataframe tbody tr th:only-of-type {\n",
       "        vertical-align: middle;\n",
       "    }\n",
       "\n",
       "    .dataframe tbody tr th {\n",
       "        vertical-align: top;\n",
       "    }\n",
       "\n",
       "    .dataframe thead th {\n",
       "        text-align: right;\n",
       "    }\n",
       "</style>\n",
       "<table border=\"1\" class=\"dataframe\">\n",
       "  <thead>\n",
       "    <tr style=\"text-align: right;\">\n",
       "      <th></th>\n",
       "      <th>userid</th>\n",
       "      <th>version</th>\n",
       "      <th>sum_gamerounds</th>\n",
       "      <th>retention_1</th>\n",
       "      <th>retention_7</th>\n",
       "    </tr>\n",
       "  </thead>\n",
       "  <tbody>\n",
       "    <tr>\n",
       "      <th>57702</th>\n",
       "      <td>6390605</td>\n",
       "      <td>gate_30</td>\n",
       "      <td>49854</td>\n",
       "      <td>False</td>\n",
       "      <td>True</td>\n",
       "    </tr>\n",
       "    <tr>\n",
       "      <th>7912</th>\n",
       "      <td>871500</td>\n",
       "      <td>gate_30</td>\n",
       "      <td>2961</td>\n",
       "      <td>True</td>\n",
       "      <td>True</td>\n",
       "    </tr>\n",
       "    <tr>\n",
       "      <th>29417</th>\n",
       "      <td>3271615</td>\n",
       "      <td>gate_40</td>\n",
       "      <td>2640</td>\n",
       "      <td>True</td>\n",
       "      <td>False</td>\n",
       "    </tr>\n",
       "    <tr>\n",
       "      <th>43671</th>\n",
       "      <td>4832608</td>\n",
       "      <td>gate_30</td>\n",
       "      <td>2438</td>\n",
       "      <td>True</td>\n",
       "      <td>True</td>\n",
       "    </tr>\n",
       "    <tr>\n",
       "      <th>48188</th>\n",
       "      <td>5346171</td>\n",
       "      <td>gate_40</td>\n",
       "      <td>2294</td>\n",
       "      <td>True</td>\n",
       "      <td>True</td>\n",
       "    </tr>\n",
       "  </tbody>\n",
       "</table>\n",
       "</div>"
      ],
      "text/plain": [
       "        userid  version  sum_gamerounds  retention_1  retention_7\n",
       "57702  6390605  gate_30           49854        False         True\n",
       "7912    871500  gate_30            2961         True         True\n",
       "29417  3271615  gate_40            2640         True        False\n",
       "43671  4832608  gate_30            2438         True         True\n",
       "48188  5346171  gate_40            2294         True         True"
      ]
     },
     "execution_count": 31,
     "metadata": {},
     "output_type": "execute_result"
    }
   ],
   "source": [
    "df.nlargest(5, ['sum_gamerounds'])"
   ]
  },
  {
   "cell_type": "code",
   "execution_count": 32,
   "id": "1a46881d",
   "metadata": {},
   "outputs": [],
   "source": [
    "df = df[df.sum_gamerounds < 3000]"
   ]
  },
  {
   "cell_type": "code",
   "execution_count": 33,
   "id": "c6619c2d",
   "metadata": {},
   "outputs": [
    {
     "data": {
      "text/html": [
       "<div>\n",
       "<style scoped>\n",
       "    .dataframe tbody tr th:only-of-type {\n",
       "        vertical-align: middle;\n",
       "    }\n",
       "\n",
       "    .dataframe tbody tr th {\n",
       "        vertical-align: top;\n",
       "    }\n",
       "\n",
       "    .dataframe thead th {\n",
       "        text-align: right;\n",
       "    }\n",
       "</style>\n",
       "<table border=\"1\" class=\"dataframe\">\n",
       "  <thead>\n",
       "    <tr style=\"text-align: right;\">\n",
       "      <th></th>\n",
       "      <th>userid</th>\n",
       "      <th>sum_gamerounds</th>\n",
       "    </tr>\n",
       "  </thead>\n",
       "  <tbody>\n",
       "    <tr>\n",
       "      <th>count</th>\n",
       "      <td>9.018800e+04</td>\n",
       "      <td>90188.000000</td>\n",
       "    </tr>\n",
       "    <tr>\n",
       "      <th>mean</th>\n",
       "      <td>4.998397e+06</td>\n",
       "      <td>51.320253</td>\n",
       "    </tr>\n",
       "    <tr>\n",
       "      <th>std</th>\n",
       "      <td>2.883298e+06</td>\n",
       "      <td>102.682719</td>\n",
       "    </tr>\n",
       "    <tr>\n",
       "      <th>min</th>\n",
       "      <td>1.160000e+02</td>\n",
       "      <td>0.000000</td>\n",
       "    </tr>\n",
       "    <tr>\n",
       "      <th>25%</th>\n",
       "      <td>2.512211e+06</td>\n",
       "      <td>5.000000</td>\n",
       "    </tr>\n",
       "    <tr>\n",
       "      <th>50%</th>\n",
       "      <td>4.995804e+06</td>\n",
       "      <td>16.000000</td>\n",
       "    </tr>\n",
       "    <tr>\n",
       "      <th>75%</th>\n",
       "      <td>7.496461e+06</td>\n",
       "      <td>51.000000</td>\n",
       "    </tr>\n",
       "    <tr>\n",
       "      <th>max</th>\n",
       "      <td>9.999861e+06</td>\n",
       "      <td>2961.000000</td>\n",
       "    </tr>\n",
       "  </tbody>\n",
       "</table>\n",
       "</div>"
      ],
      "text/plain": [
       "             userid  sum_gamerounds\n",
       "count  9.018800e+04    90188.000000\n",
       "mean   4.998397e+06       51.320253\n",
       "std    2.883298e+06      102.682719\n",
       "min    1.160000e+02        0.000000\n",
       "25%    2.512211e+06        5.000000\n",
       "50%    4.995804e+06       16.000000\n",
       "75%    7.496461e+06       51.000000\n",
       "max    9.999861e+06     2961.000000"
      ]
     },
     "execution_count": 33,
     "metadata": {},
     "output_type": "execute_result"
    }
   ],
   "source": [
    "df.describe()"
   ]
  },
  {
   "cell_type": "code",
   "execution_count": 34,
   "id": "c8239d5c",
   "metadata": {},
   "outputs": [
    {
     "name": "stdout",
     "output_type": "stream",
     "text": [
      "version\n",
      "False    45489\n",
      "True     44699\n",
      "Name: version, dtype: int64\n",
      "version\n",
      "False    44699\n",
      "True     45489\n",
      "Name: version, dtype: int64\n"
     ]
    }
   ],
   "source": [
    "A = df.version.groupby(df.version == 'gate_30').count()\n",
    "B = df.version.groupby(df.version == 'gate_40').count()\n",
    "print(A)\n",
    "print(B)"
   ]
  },
  {
   "cell_type": "markdown",
   "id": "9b4b2c4b",
   "metadata": {},
   "source": [
    "Назовем \"gate_30\" контрольной группой A. <br>\n",
    "Версию \"gate_40\" - тестовой группой B."
   ]
  },
  {
   "cell_type": "code",
   "execution_count": 35,
   "id": "88d0d99f",
   "metadata": {},
   "outputs": [
    {
     "data": {
      "text/plain": [
       "MannwhitneyuResult(statistic=1024285761.5, pvalue=0.05089155279145376)"
      ]
     },
     "execution_count": 35,
     "metadata": {},
     "output_type": "execute_result"
    }
   ],
   "source": [
    "mannwhitneyu(df[df.version == 'gate_30'].sum_gamerounds,\n",
    "             df[df.version == 'gate_40'].sum_gamerounds)"
   ]
  },
  {
   "cell_type": "markdown",
   "id": "1fa61359",
   "metadata": {},
   "source": [
    "Поскольку значение p-value практически равно 0.05, считаю, что теста будет не достаточно для принятия решения. "
   ]
  },
  {
   "cell_type": "code",
   "execution_count": 36,
   "id": "dca60675",
   "metadata": {},
   "outputs": [
    {
     "data": {
      "text/plain": [
       "Ttest_indResult(statistic=0.0633675766982082, pvalue=0.9494739458256001)"
      ]
     },
     "execution_count": 36,
     "metadata": {},
     "output_type": "execute_result"
    }
   ],
   "source": [
    "ttest_ind(df[df.version == 'gate_30'].sum_gamerounds,\n",
    "          df[df.version == 'gate_40'].sum_gamerounds)"
   ]
  },
  {
   "cell_type": "code",
   "execution_count": 37,
   "id": "047b0f11",
   "metadata": {},
   "outputs": [
    {
     "name": "stdout",
     "output_type": "stream",
     "text": [
      "KstestResult(statistic=0.8724153079945488, pvalue=0.0)\n",
      "KstestResult(statistic=0.8707186187388001, pvalue=0.0)\n"
     ]
    }
   ],
   "source": [
    "print(kstest(df['sum_gamerounds'][df.version == 'gate_30'], 'norm'))\n",
    "print(kstest(df['sum_gamerounds'][df.version == 'gate_40'], 'norm'))"
   ]
  },
  {
   "cell_type": "markdown",
   "id": "6a1cd6fb",
   "metadata": {},
   "source": [
    "По результатам теста видно: распределение в выборках не нормальное."
   ]
  },
  {
   "cell_type": "code",
   "execution_count": 38,
   "id": "fdaef022",
   "metadata": {},
   "outputs": [
    {
     "data": {
      "text/plain": [
       "Text(0.5, 1.0, 'Number of game rounds players on the first week')"
      ]
     },
     "execution_count": 38,
     "metadata": {},
     "output_type": "execute_result"
    },
    {
     "data": {
      "image/png": "[encoded data removed]",
      "text/plain": [
       "<Figure size 432x288 with 1 Axes>"
      ]
     },
     "metadata": {},
     "output_type": "display_data"
    }
   ],
   "source": [
    "plot_df = df.groupby('sum_gamerounds').count()\n",
    "\n",
    "ax = plot_df[:100].plot()\n",
    "ax.set_xlabel('Total game rounds')\n",
    "ax.set_ylabel('Number of players')\n",
    "ax.set_title('Number of game rounds players on the first week')"
   ]
  },
  {
   "cell_type": "markdown",
   "id": "515f666c",
   "metadata": {},
   "source": [
    "Как видно из графика, преобладающее большинство пользователей играет не более чем 20 раундов."
   ]
  },
  {
   "cell_type": "markdown",
   "id": "d69d210b",
   "metadata": {},
   "source": [
    "Построим гистограммный график различных распределений групп AB. <br>\n",
    "Для получения детального представления об активности пользователей изменим наше распределение выборок."
   ]
  },
  {
   "cell_type": "code",
   "execution_count": 39,
   "id": "f93e3312",
   "metadata": {},
   "outputs": [
    {
     "name": "stdout",
     "output_type": "stream",
     "text": [
      "    userid  version  sum_gamerounds  retention_1  retention_7\n",
      "0      116  gate_30               3        False        False\n",
      "1      337  gate_30              38         True        False\n",
      "6     1066  gate_30               0        False        False\n",
      "11    2101  gate_30               0        False        False\n",
      "13    2179  gate_30              39         True        False\n",
      "   userid  version  sum_gamerounds  retention_1  retention_7\n",
      "2     377  gate_40             165         True        False\n",
      "3     483  gate_40               1        False        False\n",
      "4     488  gate_40             179         True         True\n",
      "5     540  gate_40             187         True         True\n",
      "7    1444  gate_40               2        False        False\n"
     ]
    }
   ],
   "source": [
    "plt.style.use('ggplot')\n",
    "\n",
    "Group_A = df[df.version == 'gate_30']\n",
    "print(Group_A.head())\n",
    "\n",
    "Group_B = df[df.version == 'gate_40']\n",
    "print(Group_B.head())\n",
    "\n",
    "bins = [0, 1, 10, 20, 30, 40, 50, 60, 70, 80, 90, 100, 200, 500]\n",
    "plot_GA = pd.DataFrame(Group_A.groupby(pd.cut(Group_A['sum_gamerounds'],\n",
    "                                              bins=bins)).count())\n",
    "plot_GB = pd.DataFrame(Group_B.groupby(pd.cut(Group_B['sum_gamerounds'],\n",
    "                                              bins=bins)).count())"
   ]
  },
  {
   "cell_type": "code",
   "execution_count": 40,
   "id": "38ff0e8a",
   "metadata": {},
   "outputs": [
    {
     "data": {
      "image/png": "[encoded data removed]",
      "text/plain": [
       "<Figure size 432x288 with 1 Axes>"
      ]
     },
     "metadata": {},
     "output_type": "display_data"
    }
   ],
   "source": [
    "ax = plot_GA.plot(kind = 'bar', y='userid', color = 'yellow', alpha = 1,\n",
    "                  title = 'Total usage by groups')\n",
    "plot_GB.plot(kind = 'bar', y = 'userid', ax = ax, color = 'black', alpha = 0.7)\n",
    "ax.set_xlabel('Total game rounds')\n",
    "ax.set_ylabel('Number of players')\n",
    "plt.legend(['Group A', 'Group B'])\n",
    "plt.tight_layout()\n",
    "plt.grid(True)"
   ]
  },
  {
   "cell_type": "markdown",
   "id": "49d0e23c",
   "metadata": {},
   "source": [
    "График показывает: между двумя версиями нет большой разницы.<br>\n",
    "Небольшие различия есть в пределах 30 - 40 и 40-50 сыгранных раундов."
   ]
  },
  {
   "cell_type": "markdown",
   "id": "0cca9018",
   "metadata": {},
   "source": [
    "Посмотрим удержание в течение 1 дня."
   ]
  },
  {
   "cell_type": "code",
   "execution_count": 41,
   "id": "a9fc536c",
   "metadata": {},
   "outputs": [
    {
     "name": "stdout",
     "output_type": "stream",
     "text": [
      "44.521444094558035%\n"
     ]
    }
   ],
   "source": [
    "oneday = df.retention_1.sum()/df.retention_1.count()\n",
    "print(str(oneday*100)+'%')"
   ]
  },
  {
   "cell_type": "markdown",
   "id": "35d5ba91",
   "metadata": {},
   "source": [
    "Теперь оценим удержание в течение 1 дня для групп."
   ]
  },
  {
   "cell_type": "code",
   "execution_count": 42,
   "id": "d4fcd154",
   "metadata": {},
   "outputs": [
    {
     "name": "stdout",
     "output_type": "stream",
     "text": [
      "version\n",
      "gate_30    44.819795\n",
      "gate_40    44.228275\n",
      "Name: retention_1, dtype: float64\n"
     ]
    }
   ],
   "source": [
    "oneday = df.retention_1.groupby(df.version).sum()/df.retention_1.groupby(df.version).count()\n",
    "print(oneday*100)"
   ]
  },
  {
   "cell_type": "markdown",
   "id": "5b186983",
   "metadata": {},
   "source": [
    "Обе версии имеют практически одинаковые результаты.<br>\n",
    "Четкого ответа на вопрос о применимости изменения мы не получили.<br>\n",
    "В целях принятия решения используем Bootstrapp для более детального исcледования."
   ]
  },
  {
   "cell_type": "code",
   "execution_count": 43,
   "id": "68146557",
   "metadata": {},
   "outputs": [
    {
     "name": "stdout",
     "output_type": "stream",
     "text": [
      "version       gate_30   gate_40\n",
      "retention_1  0.448509  0.442366\n",
      "retention_1  0.448507  0.437122\n",
      "retention_1  0.448899  0.440172\n",
      "retention_1  0.446812  0.440589\n",
      "retention_1  0.452344  0.443897\n",
      "...               ...       ...\n",
      "retention_1  0.446849  0.444777\n",
      "retention_1  0.446217  0.443091\n",
      "retention_1  0.451659  0.446897\n",
      "retention_1  0.443616  0.442916\n",
      "retention_1  0.450122  0.440480\n",
      "\n",
      "[500 rows x 2 columns]\n"
     ]
    }
   ],
   "source": [
    "boot_1d = []\n",
    "for i in range(500):\n",
    "  boot_mean = df.retention_1.sample(frac=1, replace=True).groupby(df.version).mean()\n",
    "  boot_1d.append(boot_mean)\n",
    "\n",
    "boot_1d = pd.DataFrame(boot_1d)\n",
    "print(boot_1d)"
   ]
  },
  {
   "cell_type": "code",
   "execution_count": 44,
   "id": "b9bd1a7b",
   "metadata": {},
   "outputs": [
    {
     "data": {
      "text/plain": [
       "Text(0.5, 0, 'The average of 1-day retention')"
      ]
     },
     "execution_count": 44,
     "metadata": {},
     "output_type": "execute_result"
    },
    {
     "data": {
      "image/png": "[encoded data removed]",
      "text/plain": [
       "<Figure size 432x288 with 1 Axes>"
      ]
     },
     "metadata": {},
     "output_type": "display_data"
    }
   ],
   "source": [
    "ax = boot_1d.plot.kde()\n",
    "ax.set_title('The average of 1-day retention for each AB group')\n",
    "ax.set_xlabel('The average of 1-day retention')"
   ]
  },
  {
   "cell_type": "markdown",
   "id": "bd2beffe",
   "metadata": {},
   "source": [
    "Увеличим разницу в удержании в течение 1 дня."
   ]
  },
  {
   "cell_type": "code",
   "execution_count": 45,
   "id": "188db986",
   "metadata": {},
   "outputs": [
    {
     "data": {
      "text/plain": [
       "Text(0.5, 1.0, 'Zooming % difference')"
      ]
     },
     "execution_count": 45,
     "metadata": {},
     "output_type": "execute_result"
    },
    {
     "data": {
      "image/png": "[encoded data removed]",
      "text/plain": [
       "<Figure size 432x288 with 1 Axes>"
      ]
     },
     "metadata": {},
     "output_type": "display_data"
    }
   ],
   "source": [
    "boot_1d['difference'] = (boot_1d['gate_30'] - boot_1d['gate_40']) / boot_1d['gate_40']*100\n",
    "\n",
    "ax = boot_1d['difference'].plot.kde()\n",
    "ax.set_xlabel('% Difference for 1-day retention by AB-group')\n",
    "ax.set_title('Zooming % difference')"
   ]
  },
  {
   "cell_type": "markdown",
   "id": "73f24220",
   "metadata": {},
   "source": [
    "Из графика видно, что наиболее вероятная разница 1-2% в пользу ворот на 30 уровне. <br>\n",
    "Посчитаем, в скольки процентах случаев разница больше 0."
   ]
  },
  {
   "cell_type": "code",
   "execution_count": 46,
   "id": "05da4da1",
   "metadata": {},
   "outputs": [
    {
     "name": "stdout",
     "output_type": "stream",
     "text": [
      "97.2%\n"
     ]
    }
   ],
   "source": [
    "prob = (boot_1d['difference'] > 0).sum() / len(boot_1d['difference'])\n",
    "print(str(prob*100)+'%')"
   ]
  },
  {
   "cell_type": "markdown",
   "id": "3b6054bd",
   "metadata": {},
   "source": [
    "Вывод:<br>\n",
    "Существует высокая вероятность того, что удержание в течение 1 дня лучше, чем если ворота будут находиться на уровне 30."
   ]
  },
  {
   "cell_type": "markdown",
   "id": "51db023b",
   "metadata": {},
   "source": [
    "Дальше расчитаем удержание в течение 7 дней для двух AB групп."
   ]
  },
  {
   "cell_type": "code",
   "execution_count": 47,
   "id": "4c731ed3",
   "metadata": {},
   "outputs": [
    {
     "data": {
      "text/plain": [
       "version\n",
       "gate_30    0.190183\n",
       "gate_40    0.182000\n",
       "Name: retention_7, dtype: float64"
      ]
     },
     "execution_count": 47,
     "metadata": {},
     "output_type": "execute_result"
    }
   ],
   "source": [
    "df.groupby('version')['retention_7'].sum() / df.groupby('version')['retention_7'].count()"
   ]
  },
  {
   "cell_type": "markdown",
   "id": "c8897635",
   "metadata": {},
   "source": [
    "Процент удержания выше у gate_30.\n",
    "Но для более точного расчета используем bootstrap-анализ."
   ]
  },
  {
   "cell_type": "code",
   "execution_count": 48,
   "id": "4f6d448f",
   "metadata": {},
   "outputs": [
    {
     "name": "stdout",
     "output_type": "stream",
     "text": [
      "version       gate_30   gate_40\n",
      "retention_7  0.187601  0.181806\n",
      "retention_7  0.189178  0.181774\n",
      "retention_7  0.191194  0.186520\n",
      "retention_7  0.189102  0.181920\n",
      "retention_7  0.191352  0.182231\n"
     ]
    }
   ],
   "source": [
    "boot_7d = []\n",
    "for i in range(500):\n",
    "  boot_mean = df.retention_7.sample(frac=1, replace=True).groupby(df.version).mean()\n",
    "  boot_7d.append(boot_mean)\n",
    "\n",
    "boot_7d = pd.DataFrame(boot_7d)\n",
    "print(boot_7d.head())\n",
    "\n",
    "boot_7d['diff'] = (boot_7d['gate_30'] - boot_7d['gate_40']) / boot_7d['gate_40'] * 100"
   ]
  },
  {
   "cell_type": "code",
   "execution_count": 49,
   "id": "e0b3ddc0",
   "metadata": {},
   "outputs": [
    {
     "name": "stdout",
     "output_type": "stream",
     "text": [
      "1.0\n"
     ]
    },
    {
     "data": {
      "image/png": "[encoded data removed]",
      "text/plain": [
       "<Figure size 432x288 with 1 Axes>"
      ]
     },
     "metadata": {},
     "output_type": "display_data"
    }
   ],
   "source": [
    "ax = boot_7d['diff'].plot.kde()\n",
    "ax.set_xlabel('% difference in means')\n",
    "ax.set_title('% difference distribution for 7 days')\n",
    "\n",
    "prob = (boot_7d['diff'] > 0).sum() / len(boot_7d['diff'])\n",
    "\n",
    "print(prob)"
   ]
  },
  {
   "cell_type": "code",
   "execution_count": 50,
   "id": "0faee756",
   "metadata": {},
   "outputs": [
    {
     "name": "stdout",
     "output_type": "stream",
     "text": [
      "100.0%\n"
     ]
    }
   ],
   "source": [
    "prob = (boot_7d['diff'] > 0).sum() / len(boot_7d['diff'])\n",
    "print(str(prob*100)+'%')"
   ]
  },
  {
   "cell_type": "markdown",
   "id": "52f97849",
   "metadata": {},
   "source": [
    "Вывод: <br>\n",
    "исcледования показали, что удержание в течение 7 дней выше, чем когда ворота находятся на уровне 30.\n",
    "Следовательно, для удержания аудитории не рекомендуется перемещать ворота с 30 уровня на 40."
   ]
  }
 ],
 "metadata": {
  "kernelspec": {
   "display_name": "Python 3 (ipykernel)",
   "language": "python",
   "name": "python3"
  },
  "language_info": {
   "codemirror_mode": {
    "name": "ipython",
    "version": 3
   },
   "file_extension": ".py",
   "mimetype": "text/x-python",
   "name": "python",
   "nbconvert_exporter": "python",
   "pygments_lexer": "ipython3",
   "version": "3.9.12"
  }
 },
 "nbformat": 4,
 "nbformat_minor": 5
}
